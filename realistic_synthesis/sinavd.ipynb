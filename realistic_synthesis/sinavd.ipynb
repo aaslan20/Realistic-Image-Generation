{
 "cells": [
  {
   "cell_type": "code",
   "execution_count": 1,
   "metadata": {},
   "outputs": [],
   "source": [
    "%matplotlib inline\n",
    "import torch\n",
    "import torch.nn as nn\n",
    "import torchvision\n",
    "from torchvision import transforms\n",
    "from torchvision.utils import save_image\n",
    "\n",
    "import numpy as np\n",
    "import scipy\n",
    "from scipy.stats import gaussian_kde\n",
    "import matplotlib.pyplot as plt\n",
    "plt.style.use('seaborn')\n",
    "\n",
    "\n",
    "from model_classifier.classifier import MinstC, Classifier\n",
    "from model_classifier.config import mConfig1\n",
    "from supriseAdequacy.calc import activations, calc_lsa, calc_img_lsa, calculate_dsa, calc_img_lsa2\n",
    "from supriseAdequacy.optimazation import hill_climbing, simulated_annealing\n",
    "from models.vae import ConvVAE, DCVAE\n",
    "from models.dcgan import Discriminator, Generator\n",
    "from models.configurations import d_config, g_config"
   ]
  },
  {
   "cell_type": "code",
   "execution_count": 2,
   "metadata": {},
   "outputs": [
    {
     "data": {
      "text/plain": [
       "Generator(\n",
       "  (network): Sequential(\n",
       "    (0): ConvTranspose2d(100, 128, kernel_size=(4, 4), stride=(1, 1), bias=False)\n",
       "    (1): BatchNorm2d(128, eps=1e-05, momentum=0.1, affine=True, track_running_stats=True)\n",
       "    (2): ReLU(inplace=True)\n",
       "    (3): ConvTranspose2d(128, 64, kernel_size=(3, 3), stride=(2, 2), padding=(1, 1), bias=False)\n",
       "    (4): BatchNorm2d(64, eps=1e-05, momentum=0.1, affine=True, track_running_stats=True)\n",
       "    (5): ReLU(inplace=True)\n",
       "    (6): ConvTranspose2d(64, 32, kernel_size=(4, 4), stride=(2, 2), padding=(1, 1), bias=False)\n",
       "    (7): BatchNorm2d(32, eps=1e-05, momentum=0.1, affine=True, track_running_stats=True)\n",
       "    (8): ReLU(inplace=True)\n",
       "    (9): ConvTranspose2d(32, 1, kernel_size=(4, 4), stride=(2, 2), padding=(1, 1), bias=False)\n",
       "    (10): Tanh()\n",
       "  )\n",
       ")"
      ]
     },
     "execution_count": 2,
     "metadata": {},
     "output_type": "execute_result"
    }
   ],
   "source": [
    "# device\n",
    "device = torch.device(\"cuda\" if torch.cuda.is_available() else \"cpu\")\n",
    "# config\n",
    "\n",
    "# MinstClassifier\n",
    "minstC = MinstC(mConfig1)\n",
    "minstC_weight = 'training_weights/classifier_minst4.pth'\n",
    "minstC.load_state_dict(torch.load(minstC_weight, map_location= device))\n",
    "minstC.eval()\n",
    "\n",
    "# ConvVae didn't took dynamic one would need to do the config for it first\n",
    "encoded_space_dim = 4\n",
    "fc2_input_dim = 128\n",
    "convae = ConvVAE(encoded_space_dim= encoded_space_dim , fc2_input_dim= fc2_input_dim)\n",
    "Cvae_weight = 'training_weights/vae_model.pth'\n",
    "convae.load_state_dict(torch.load(Cvae_weight, map_location= device))\n",
    "convae.eval()\n",
    "\n",
    "\n",
    "generator = Generator(g_config)\n",
    "gen_weight = 'training_weights/generator.pth'\n",
    "generator.load_state_dict(torch.load(gen_weight, map_location= device))\n",
    "generator.eval()\n",
    "#discriminator = Discriminator(d_config)\n",
    "#dis_weight = 'training_weights/discriminator.pth'\n",
    "#discriminator.load_state_dict(torch.load(dis_weight, map_location= device))\n",
    "#discriminator.eval()\n",
    "\n"
   ]
  },
  {
   "cell_type": "code",
   "execution_count": 3,
   "metadata": {},
   "outputs": [],
   "source": [
    "train_dataset = torchvision.datasets.MNIST(root='./data', train=True, transform=transforms.ToTensor(), download=False)\n",
    "train_data_loader = torch.utils.data.DataLoader(dataset=train_dataset, batch_size=100, shuffle=True)\n",
    "test_dataset = torchvision.datasets.MNIST(root='./data', train=False, transform=transforms.ToTensor(), download=False)\n",
    "test_data_loader = torch.utils.data.DataLoader(dataset=test_dataset, batch_size=1, shuffle=True)"
   ]
  },
  {
   "cell_type": "code",
   "execution_count": 4,
   "metadata": {},
   "outputs": [],
   "source": [
    "# chose activation layer (two methods used mine), calculate the activations (pretty much as in sinvad with minor differences)\n",
    "act_layer = minstC.at_by_layer2\n",
    "act = activations(train_data_loader, act_layer, 512, 11, 0.6, 100, device)\n",
    "kde, result = act"
   ]
  },
  {
   "cell_type": "code",
   "execution_count": 5,
   "metadata": {},
   "outputs": [
    {
     "name": "stdout",
     "output_type": "stream",
     "text": [
      "maximum lsa in test dataset: [99.94657686]\n",
      "minimum lsa in test dataset: [25.74970642]\n"
     ]
    }
   ],
   "source": [
    "lsas = []\n",
    "for i, (x, x_class) in enumerate(test_data_loader):\n",
    "    if i > 100: break\n",
    "    lsas.append(calc_img_lsa(x.to(device), act_layer, 11, result, kde))\n",
    "print(f'maximum lsa in test dataset: {max(lsas)}')\n",
    "print(f'minimum lsa in test dataset: {min(lsas)}')"
   ]
  },
  {
   "cell_type": "code",
   "execution_count": 9,
   "metadata": {},
   "outputs": [
    {
     "data": {
      "text/plain": [
       "<matplotlib.image.AxesImage at 0x148da34c0>"
      ]
     },
     "execution_count": 9,
     "metadata": {},
     "output_type": "execute_result"
    },
    {
     "data": {
      "image/png": "[encoded data removed]",
      "text/plain": [
       "<Figure size 800x550 with 1 Axes>"
      ]
     },
     "metadata": {},
     "output_type": "display_data"
    }
   ],
   "source": [
    "b_size = 1\n",
    "rand_norm_v = torch.randn(b_size, 4).to(device)\n",
    "vae_rand_imgs = convae.decoder(rand_norm_v)\n",
    "plt.imshow(vae_rand_imgs[0].view(1, 1, 28, 28)[0][0].detach().cpu())"
   ]
  },
  {
   "cell_type": "code",
   "execution_count": 27,
   "metadata": {},
   "outputs": [
    {
     "data": {
      "text/plain": [
       "<matplotlib.image.AxesImage at 0x14f1a5f40>"
      ]
     },
     "execution_count": 27,
     "metadata": {},
     "output_type": "execute_result"
    },
    {
     "data": {
      "image/png": "[encoded data removed]",
      "text/plain": [
       "<Figure size 800x550 with 1 Axes>"
      ]
     },
     "metadata": {},
     "output_type": "display_data"
    }
   ],
   "source": [
    "rand_norm_v = torch.randn(b_size, 100,1,1).to(device)\n",
    "gan_rand_imgs = generator(rand_norm_v)\n",
    "plt.imshow(gan_rand_imgs[0].view(1, 1, 28, 28)[0][0].detach().cpu())"
   ]
  },
  {
   "attachments": {},
   "cell_type": "markdown",
   "metadata": {},
   "source": [
    "This section will calculate the Distance based suprise adequacy which is an alternative to LSA (without optimization, but can be used for it)"
   ]
  },
  {
   "cell_type": "code",
   "execution_count": 28,
   "metadata": {},
   "outputs": [],
   "source": [
    "def select_label(digit):\n",
    "    labels = train_dataset.targets  \n",
    "    selected_digit = digit\n",
    "    indices = (labels == selected_digit).nonzero(as_tuple=True)[0]\n",
    "    selected_label = labels[indices[0]]\n",
    "    return selected_label"
   ]
  },
  {
   "cell_type": "code",
   "execution_count": 30,
   "metadata": {},
   "outputs": [],
   "source": [
    "label = select_label(5)\n",
    "vae_dsa = calculate_dsa(vae_rand_imgs, act_layer, 11, label, train_data_loader)"
   ]
  },
  {
   "cell_type": "code",
   "execution_count": 31,
   "metadata": {},
   "outputs": [],
   "source": [
    "label = select_label(5)\n",
    "gen_dsa =calculate_dsa(gan_rand_imgs, act_layer, 11, label, train_data_loader)"
   ]
  },
  {
   "cell_type": "code",
   "execution_count": 34,
   "metadata": {},
   "outputs": [
    {
     "name": "stdout",
     "output_type": "stream",
     "text": [
      "DSA value for vae is: 0.73790574 DSA value for gan is: 1.5715488\n"
     ]
    }
   ],
   "source": [
    "print('DSA value for vae is:', vae_dsa,'DSA value for gan is:', gen_dsa)"
   ]
  },
  {
   "attachments": {},
   "cell_type": "markdown",
   "metadata": {},
   "source": [
    "This Section will calculate the LSA during optimization"
   ]
  },
  {
   "cell_type": "code",
   "execution_count": 38,
   "metadata": {},
   "outputs": [],
   "source": [
    "def loss(sa, obj = -10):\n",
    "    return abs(sa - obj)\n",
    "\n",
    "def calc_z_lsa(z):\n",
    "    vae_img = convae.decoder(z).view(-1, 1, 28,28)\n",
    "    return calc_img_lsa(vae_img,  act_layer, 11, result, kde)"
   ]
  },
  {
   "cell_type": "code",
   "execution_count": 41,
   "metadata": {},
   "outputs": [
    {
     "name": "stdout",
     "output_type": "stream",
     "text": [
      "-----epoch 0 start-----\n",
      "new_sa: 55.4715\n",
      "# of updates: 3\n",
      "change though opt: 0.0002743750810623169\n",
      "-----epoch 1 start-----\n",
      "new_sa: 51.4806\n",
      "# of updates: 3\n",
      "change though opt: 1.4268972873687744\n",
      "-----epoch 2 start-----\n",
      "new_sa: 42.3257\n",
      "# of updates: 2\n",
      "change though opt: 1.4776747226715088\n"
     ]
    }
   ],
   "source": [
    "z_dim = 4\n",
    "b_size = 1\n",
    "rand_norm_v = torch.randn(b_size, 4).to(device)\n",
    "pix_rand_img_tensor = torch.Tensor(vae_rand_imgs).to(device).view(-1, 1, 28, 28)\n",
    "prev_sa = calc_z_lsa(rand_norm_v)\n",
    "target_sa = 26\n",
    "prev_loss = loss(prev_sa, target_sa)\n",
    "opt_img = pix_rand_img_tensor.clone()\n",
    "opt_z = rand_norm_v.clone()\n",
    "\n",
    "last_diff_prop = 0.0001\n",
    "opt_epoch_num = 3\n",
    "\n",
    "hill_climbing(opt_epoch_num, opt_z, z_dim, prev_sa, target_sa, prev_loss, loss, opt_z, last_diff_prop, calc_z_lsa)"
   ]
  },
  {
   "cell_type": "code",
   "execution_count": 42,
   "metadata": {},
   "outputs": [
    {
     "name": "stdout",
     "output_type": "stream",
     "text": [
      "-----epoch 0 start-----\n",
      "new_sa: 35.7794\n",
      "# of updates: 1\n",
      "change though opt: 0.2990981340408325\n",
      "-----epoch 1 start-----\n",
      "new_sa: 28.8783\n",
      "# of updates: 3\n",
      "change though opt: 1.1016786098480225\n",
      "-----epoch 2 start-----\n",
      "new_sa: 27.1808\n",
      "# of updates: 1\n",
      "change though opt: 0.5995972752571106\n"
     ]
    }
   ],
   "source": [
    "z_dim = 4\n",
    "b_size = 1\n",
    "rand_norm_v = torch.randn(b_size, 4).to(device)\n",
    "pix_rand_img_tensor = torch.Tensor(vae_rand_imgs).to(device).view(-1, 1, 28, 28)\n",
    "prev_sa = calc_z_lsa(rand_norm_v)\n",
    "target_sa = 26\n",
    "prev_loss = loss(prev_sa, target_sa)\n",
    "opt_img = pix_rand_img_tensor.clone()\n",
    "opt_z = rand_norm_v.clone()\n",
    "\n",
    "last_diff_prop = 5.\n",
    "opt_epoch_num = 3\n",
    "\n",
    "simulated_annealing(opt_epoch_num, opt_z, z_dim, prev_sa, target_sa, prev_loss, loss, opt_z, last_diff_prop, calc_z_lsa)"
   ]
  }
 ],
 "metadata": {
  "kernelspec": {
   "display_name": "Python 3",
   "language": "python",
   "name": "python3"
  },
  "language_info": {
   "codemirror_mode": {
    "name": "ipython",
    "version": 3
   },
   "file_extension": ".py",
   "mimetype": "text/x-python",
   "name": "python",
   "nbconvert_exporter": "python",
   "pygments_lexer": "ipython3",
   "version": "3.9.0"
  },
  "orig_nbformat": 4
 },
 "nbformat": 4,
 "nbformat_minor": 2
}
